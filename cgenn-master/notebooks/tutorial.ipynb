{
 "cells": [
  {
   "attachments": {},
   "cell_type": "markdown",
   "id": "c15329b5",
   "metadata": {},
   "source": [
    "# Clifford Group Equivariant Neural Networks"
   ]
  },
  {
   "attachments": {},
   "cell_type": "markdown",
   "id": "da16decf",
   "metadata": {},
   "source": [
    "This is a quick introduction to Clifford group equivariant layers can be used. First, let's do some imports."
   ]
  },
  {
   "cell_type": "code",
   "execution_count": 1,
   "id": "bf5e78aa",
   "metadata": {},
   "outputs": [
    {
     "name": "stdout",
     "output_type": "stream",
     "text": [
      "/home/druhe/github/clifford-group-equivariant-networks\n"
     ]
    }
   ],
   "source": [
    "%cd .."
   ]
  },
  {
   "attachments": {},
   "cell_type": "markdown",
   "id": "9707616b",
   "metadata": {},
   "source": [
    "# Imports"
   ]
  },
  {
   "cell_type": "code",
   "execution_count": 2,
   "id": "8ebf1216",
   "metadata": {},
   "outputs": [],
   "source": [
    "import torch\n",
    "torch.set_default_dtype(torch.float64)\n",
    "\n",
    "import matplotlib.pyplot as plt\n",
    "\n",
    "from models.modules.fcgp import FullyConnectedSteerableGeometricProductLayer\n",
    "from models.modules.gp import SteerableGeometricProductLayer\n",
    "from models.modules.linear import MVLinear\n",
    "from models.modules.mvsilu import MVSiLU\n",
    "from models.modules.mvlayernorm import MVLayerNorm\n",
    "\n",
    "from algebra.cliffordalgebra import CliffordAlgebra"
   ]
  },
  {
   "attachments": {},
   "cell_type": "markdown",
   "id": "2bf22206",
   "metadata": {},
   "source": [
    "# Setup"
   ]
  },
  {
   "attachments": {},
   "cell_type": "markdown",
   "id": "00300854",
   "metadata": {},
   "source": [
    "Next, let's create some fake data. We assume we have 8 three-dimensional vectors and 8 scalar input data. We leave the batch dimension to 1."
   ]
  },
  {
   "cell_type": "code",
   "execution_count": 3,
   "id": "169f2910",
   "metadata": {},
   "outputs": [],
   "source": [
    "h = torch.randn(1, 8, 1)\n",
    "x = torch.randn(1, 8, 3)"
   ]
  },
  {
   "attachments": {},
   "cell_type": "markdown",
   "id": "4d16eace",
   "metadata": {},
   "source": [
    "Let's create the three-dimensional Clifford algebra."
   ]
  },
  {
   "cell_type": "code",
   "execution_count": 4,
   "id": "51928e60",
   "metadata": {},
   "outputs": [],
   "source": [
    "algebra = CliffordAlgebra((1., 1., 1.))"
   ]
  },
  {
   "attachments": {},
   "cell_type": "markdown",
   "id": "32b7c01b",
   "metadata": {},
   "source": [
    "We embed the data in the algebra. Scalars are of grade 0, and vectors of grade 1. We concatenate the input features."
   ]
  },
  {
   "cell_type": "code",
   "execution_count": 5,
   "id": "cad4c21e",
   "metadata": {},
   "outputs": [],
   "source": [
    "h_cl = algebra.embed_grade(h, 0)\n",
    "x_cl = algebra.embed_grade(x, 1)\n",
    "\n",
    "input = torch.cat([h_cl, x_cl], dim=1)"
   ]
  },
  {
   "attachments": {},
   "cell_type": "markdown",
   "id": "bdc82edc",
   "metadata": {},
   "source": [
    "# Create Orthogonal Transformations"
   ]
  },
  {
   "attachments": {},
   "cell_type": "markdown",
   "id": "bf4f39bd",
   "metadata": {},
   "source": [
    "Let's apply some orthogonal transformations. As shown in the paper, the Clifford group can do that for us."
   ]
  },
  {
   "cell_type": "code",
   "execution_count": 6,
   "id": "cc896cec",
   "metadata": {},
   "outputs": [],
   "source": [
    "# Reflector\n",
    "v = algebra.versor(1)\n",
    "\n",
    "# Rotor\n",
    "R = algebra.versor(2)"
   ]
  },
  {
   "attachments": {},
   "cell_type": "markdown",
   "id": "bb35d7e8",
   "metadata": {},
   "source": [
    "Create reflected and rotated versions of the data."
   ]
  },
  {
   "cell_type": "code",
   "execution_count": 7,
   "id": "3a0ce1e8",
   "metadata": {},
   "outputs": [],
   "source": [
    "input_v = algebra.rho(v, input.clone())\n",
    "\n",
    "input_R = algebra.rho(R, input.clone())"
   ]
  },
  {
   "attachments": {},
   "cell_type": "markdown",
   "id": "bb8127b0",
   "metadata": {},
   "source": [
    "Make sure that the transformations are orthogonal."
   ]
  },
  {
   "cell_type": "code",
   "execution_count": 8,
   "id": "3eed2668",
   "metadata": {},
   "outputs": [],
   "source": [
    "assert torch.allclose(algebra.norm(input_v), algebra.norm(input))\n",
    "assert torch.allclose(algebra.norm(input_R), algebra.norm(input))\n"
   ]
  },
  {
   "attachments": {},
   "cell_type": "markdown",
   "id": "378606dc",
   "metadata": {},
   "source": [
    "# Create Network Layers"
   ]
  },
  {
   "attachments": {},
   "cell_type": "markdown",
   "id": "af829c8a",
   "metadata": {},
   "source": [
    "Now, we create some layers."
   ]
  },
  {
   "cell_type": "code",
   "execution_count": 9,
   "id": "5c0fa47b",
   "metadata": {},
   "outputs": [],
   "source": [
    "fcgp = FullyConnectedSteerableGeometricProductLayer(algebra, 16, 1)\n",
    "gp = SteerableGeometricProductLayer(algebra, 16)\n",
    "linear = MVLinear(algebra, 16, 16)\n",
    "mvsilu = MVSiLU(algebra, 16)\n",
    "norm = MVLayerNorm(algebra, 16)"
   ]
  },
  {
   "attachments": {},
   "cell_type": "markdown",
   "id": "239fcbf0",
   "metadata": {},
   "source": [
    "# Equivariance Checks"
   ]
  },
  {
   "attachments": {},
   "cell_type": "markdown",
   "id": "f74f272d",
   "metadata": {},
   "source": [
    "Let's check the equivariance!"
   ]
  },
  {
   "cell_type": "code",
   "execution_count": 10,
   "id": "b0ecfebf",
   "metadata": {},
   "outputs": [],
   "source": [
    "output = fcgp(input)\n",
    "output_v = fcgp(input_v)\n",
    "output_R = fcgp(input_R)\n",
    "\n",
    "assert torch.allclose(algebra.rho(v, output), output_v)\n",
    "assert torch.allclose(algebra.rho(R, output), output_R)"
   ]
  },
  {
   "attachments": {},
   "cell_type": "markdown",
   "id": "0be13bca",
   "metadata": {},
   "source": [
    "And a visualization of the equivariance."
   ]
  },
  {
   "cell_type": "code",
   "execution_count": 11,
   "id": "97b67775",
   "metadata": {},
   "outputs": [
    {
     "data": {
      "image/png": "[encoded data removed]",
      "text/plain": [
       "<Figure size 640x480 with 4 Axes>"
      ]
     },
     "metadata": {},
     "output_type": "display_data"
    }
   ],
   "source": [
    "# Labels\n",
    "x = ['$1$', '$e_1$', '$e_2$', '$e_3$', '$e_{12}$', '$e_{13}$', '$e_{23}$', '$e_{123}$']\n",
    "fig, axes = plt.subplots(nrows=2, ncols=2)\n",
    "\n",
    "# First bar chart (top left)\n",
    "axes[0, 0].bar(x, input_R[0, :].mean(0).detach(), color=['red', 'green', 'green', 'green', 'blue' , 'blue', 'blue', 'yellow'])\n",
    "axes[0, 0].set_title(r\"$\\rho(w)(x)$\")\n",
    "\n",
    "# Second bar chart (top right)\n",
    "axes[0, 1].bar(x, fcgp(input)[0].mean(0).detach(), color=['red', 'green', 'green', 'green', 'blue' , 'blue', 'blue', 'yellow'])\n",
    "axes[0, 1].set_title(r\"$\\phi(x)$\")\n",
    "\n",
    "# Third bar chart (bottom left)\n",
    "axes[1, 0].bar(x, algebra.rho(R, output).detach()[0, 0], color=['red', 'green', 'green', 'green', 'blue' , 'blue', 'blue', 'yellow'])\n",
    "axes[1, 0].set_title(r\"$\\phi(\\rho(w)(x))$\")\n",
    "\n",
    "# Fourth bar chart (bottom right)\n",
    "axes[1, 1].bar(x, output_R.detach()[0, 0], color=['red', 'green', 'green', 'green', 'blue' , 'blue', 'blue', 'yellow'])\n",
    "axes[1, 1].set_title(r\"$\\rho(w)(\\phi(x))$\")\n",
    "\n",
    "plt.tight_layout()\n",
    "plt.show()\n"
   ]
  },
  {
   "cell_type": "code",
   "execution_count": 12,
   "id": "238660cb",
   "metadata": {},
   "outputs": [],
   "source": [
    "output = gp(input)\n",
    "output_v = gp(input_v)\n",
    "output_R = gp(input_R)\n",
    "\n",
    "assert torch.allclose(algebra.rho(v, output), output_v)\n",
    "assert torch.allclose(algebra.rho(R, output), output_R)"
   ]
  },
  {
   "cell_type": "code",
   "execution_count": 13,
   "id": "514e55f6",
   "metadata": {},
   "outputs": [],
   "source": [
    "output = linear(input)\n",
    "output_v = linear(input_v)\n",
    "output_R = linear(input_R)\n",
    "\n",
    "assert torch.allclose(algebra.rho(v, output), output_v)\n",
    "assert torch.allclose(algebra.rho(R, output), output_R)"
   ]
  },
  {
   "cell_type": "code",
   "execution_count": 14,
   "id": "bed0bf9f",
   "metadata": {},
   "outputs": [],
   "source": [
    "output = mvsilu(input)\n",
    "output_v = mvsilu(input_v)\n",
    "output_R = mvsilu(input_R)\n",
    "\n",
    "assert torch.allclose(algebra.rho(v, output), output_v)\n",
    "assert torch.allclose(algebra.rho(R, output), output_R)"
   ]
  },
  {
   "cell_type": "code",
   "execution_count": 15,
   "id": "af76f2e5",
   "metadata": {},
   "outputs": [],
   "source": [
    "output = norm(input)\n",
    "output_v = norm(input_v)\n",
    "output_R = norm(input_R)\n",
    "\n",
    "assert torch.allclose(algebra.rho(v, output), output_v)\n",
    "assert torch.allclose(algebra.rho(R, output), output_R)"
   ]
  },
  {
   "attachments": {},
   "cell_type": "markdown",
   "id": "15c5582c",
   "metadata": {},
   "source": [
    "# Mix and Match!"
   ]
  },
  {
   "attachments": {},
   "cell_type": "markdown",
   "id": "361181b7",
   "metadata": {},
   "source": [
    "And we're done! One can now use these layers to compose equivariant deep neural networks. Need some inspiration? Check the `models` directory!"
   ]
  }
 ],
 "metadata": {
  "kernelspec": {
   "display_name": "Python 3 (ipykernel)",
   "language": "python",
   "name": "python3"
  },
  "language_info": {
   "codemirror_mode": {
    "name": "ipython",
    "version": 3
   },
   "file_extension": ".py",
   "mimetype": "text/x-python",
   "name": "python",
   "nbconvert_exporter": "python",
   "pygments_lexer": "ipython3",
   "version": "3.10.8"
  }
 },
 "nbformat": 4,
 "nbformat_minor": 5
}
